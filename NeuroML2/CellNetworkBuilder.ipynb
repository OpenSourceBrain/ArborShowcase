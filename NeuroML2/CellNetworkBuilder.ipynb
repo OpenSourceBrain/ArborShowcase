{
 "cells": [
  {
   "cell_type": "markdown",
   "metadata": {},
   "source": [
    "## Building a cell & network from scratch using NeuroML and NeuroMLlite"
   ]
  },
  {
   "cell_type": "code",
   "execution_count": 8,
   "metadata": {},
   "outputs": [
    {
     "name": "stdout",
     "output_type": "stream",
     "text": [
      "*******************************************************\n",
      "* NeuroMLDocument: BallAndStick\n",
      "*\n",
      "*\n",
      "*  Cell: BallAndStick\n",
      "*    <Segment|0|soma>\n",
      "*      Parent segment: None (root segment)\n",
      "*      (0.0, 0.0, 0.0), diam 20.0um -> (0.0, 0.0, 0.0), diam 20.0um; seg length: 0.0 um\n",
      "*      Surface area: 1256.6370614359173 um2, volume: 4188.790204786391 um3\n",
      "*    <Segment|1|dend1>\n",
      "*      Parent segment: 0\n",
      "*      (0.0, 0.0, 0.0), diam 5.0um -> (30.0, 0.0, 0.0), diam 5.0um; seg length: 30.0 um\n",
      "*      Surface area: 471.23889803846896 um2, volume: 589.0486225480861 um3\n",
      "*    <Segment|2|dend2>\n",
      "*      Parent segment: 1\n",
      "*      (30.0, 0.0, 0.0), diam 4.0um -> (60.0, 0.0, 0.0), diam 4.0um; seg length: 30.0 um\n",
      "*      Surface area: 376.99111843077515 um2, volume: 376.99111843077515 um3\n",
      "*    Total length of 3 segments: 60.0 um; total area: 2104.8670779051613 um2\n",
      "*  \n",
      "*    SegmentGroup: soma_group,\t1 member(s),\t0 included group(s);\tcontains 1 segment, id: 0\n",
      "*    SegmentGroup: dendrite_group,\t2 member(s),\t0 included group(s);\tcontains 2 segments in total\n",
      "*  \n",
      "*\n",
      "*******************************************************\n",
      "\n",
      "Saved cell file to: BallAndStick.cell.nml\n"
     ]
    }
   ],
   "source": [
    "import neuroml\n",
    "import neuroml.writers as writers\n",
    "from pyneuroml import pynml\n",
    "\n",
    "cell_id = 'BallAndStick'\n",
    "\n",
    "nml_cell_doc = neuroml.NeuroMLDocument(id=cell_id)\n",
    "\n",
    "cell = neuroml.Cell(id=cell_id)\n",
    "nml_cell_doc.cells.append(cell)\n",
    "\n",
    "cell.morphology = neuroml.Morphology(id='morphology')  \n",
    "\n",
    "\n",
    "def add_segment(cell, prox, dist, name=None, parent=None, group=None):\n",
    "    \n",
    "    p = neuroml.Point3DWithDiam(x=prox[0], y=prox[1], z=prox[2], diameter=prox[3])\n",
    "    d = neuroml.Point3DWithDiam(x=dist[0], y=dist[1], z=dist[2], diameter=dist[3])\n",
    "\n",
    "    segid = len(cell.morphology.segments)\n",
    "    \n",
    "    sp = neuroml.SegmentParent(segments=parent.id) if parent else None\n",
    "    segment = neuroml.Segment(id=segid, proximal = p,  distal = d, parent = sp)\n",
    "    \n",
    "    if name:\n",
    "        segment.name=name\n",
    "        \n",
    "    if group:\n",
    "        seg_group = None\n",
    "        for sg in cell.morphology.segment_groups:\n",
    "            if sg.id==group: seg_group = sg\n",
    "                \n",
    "        if seg_group is None:\n",
    "            neuro_lex_id = None\n",
    "            if group==\"axon_group\": neuro_lex_id=\"GO:0030424\" # See http://amigo.geneontology.org/amigo/term/GO:0030424\n",
    "            if group==\"soma_group\": neuro_lex_id=\"GO:0043025\"\n",
    "            if group==\"dendrite_group\": neuro_lex_id=\"GO:0030425\"\n",
    "            \n",
    "            seg_group = neuroml.SegmentGroup(id=group,neuro_lex_id=neuro_lex_id)\n",
    "            \n",
    "            cell.morphology.segment_groups.append(seg_group)\n",
    "            \n",
    "        seg_group.members.append(neuroml.Member(segments=segment.id))\n",
    "    \n",
    "    cell.morphology.segments.append(segment)\n",
    "    \n",
    "    return segment\n",
    "\n",
    "soma =  add_segment(cell,(0,0,0,20),(0,0,0,20),name='soma',group='soma_group')\n",
    "dend1 = add_segment(cell,(0,0,0,5),(30,0,0,5),name='dend1',group='dendrite_group',parent=soma)\n",
    "dend2 = add_segment(cell,(30,0,0,4),(60,0,0,4),name='dend2',group='dendrite_group',parent=dend1)\n",
    "\n",
    "\n",
    "pynml.summary(nml_cell_doc, verbose=True)\n",
    "\n",
    "nml_file = cell.id+'.cell.nml'\n",
    "\n",
    "writers.NeuroMLWriter.write(nml_cell_doc,nml_file)\n",
    "\n",
    "print(\"Saved cell file to: \"+nml_file)"
   ]
  },
  {
   "cell_type": "code",
   "execution_count": null,
   "metadata": {},
   "outputs": [],
   "source": []
  }
 ],
 "metadata": {
  "kernelspec": {
   "display_name": "Python 3",
   "language": "python",
   "name": "python3"
  },
  "language_info": {
   "codemirror_mode": {
    "name": "ipython",
    "version": 3
   },
   "file_extension": ".py",
   "mimetype": "text/x-python",
   "name": "python",
   "nbconvert_exporter": "python",
   "pygments_lexer": "ipython3",
   "version": "3.7.7"
  }
 },
 "nbformat": 4,
 "nbformat_minor": 4
}
