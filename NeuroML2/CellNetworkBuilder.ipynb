{
 "cells": [
  {
   "cell_type": "markdown",
   "metadata": {},
   "source": [
    "## Building a cell & network from scratch using NeuroML and NeuroMLlite"
   ]
  },
  {
   "cell_type": "code",
   "execution_count": 1,
   "metadata": {},
   "outputs": [
    {
     "name": "stdout",
     "output_type": "stream",
     "text": [
      "*******************************************************\n",
      "* NeuroMLDocument: BallAndStick\n",
      "*\n",
      "*\n",
      "*  Cell: BallAndStick\n",
      "*    <Segment|0|soma>\n",
      "*      Parent segment: None (root segment)\n",
      "*      (0.0, 0.0, 0.0), diam 20.0um -> (0.0, 0.0, 0.0), diam 20.0um; seg length: 0.0 um\n",
      "*      Surface area: 1256.6370614359173 um2, volume: 4188.790204786391 um3\n",
      "*    <Segment|1|dend1>\n",
      "*      Parent segment: 0\n",
      "*      (0.0, 0.0, 0.0), diam 5.0um -> (30.0, 0.0, 0.0), diam 5.0um; seg length: 30.0 um\n",
      "*      Surface area: 471.23889803846896 um2, volume: 589.0486225480861 um3\n",
      "*    <Segment|2|dend2>\n",
      "*      Parent segment: 1\n",
      "*      (30.0, 0.0, 0.0), diam 4.0um -> (60.0, 0.0, 0.0), diam 4.0um; seg length: 30.0 um\n",
      "*      Surface area: 376.99111843077515 um2, volume: 376.99111843077515 um3\n",
      "*    Total length of 3 segments: 60.0 um; total area: 2104.8670779051613 um2\n",
      "*  \n",
      "*    SegmentGroup: all,\t3 member(s),\t0 included group(s);\tcontains 3 segments in total\n",
      "*    SegmentGroup: soma_group,\t1 member(s),\t0 included group(s);\tcontains 1 segment, id: 0\n",
      "*    SegmentGroup: dendrite_group,\t2 member(s),\t0 included group(s);\tcontains 2 segments in total\n",
      "*  \n",
      "*    Channel density: pas_chan on all;\tconductance of 0.021 mS_per_cm2 through ion chan pas with ion non_specific, erev: -70.0 mV\n",
      "*      Channel is on <Segment|0|soma>,\ttotal conductance: 0.21000000000000002 S_per_m2 x 1.2566370614359174e-09 m2 = 2.638937829015427e-10 S (263.8937829015427 pS)\n",
      "*      Channel is on <Segment|1|dend1>,\ttotal conductance: 0.21000000000000002 S_per_m2 x 4.71238898038469e-10 m2 = 9.896016858807849e-11 S (98.96016858807849 pS)\n",
      "*      Channel is on <Segment|2|dend2>,\ttotal conductance: 0.21000000000000002 S_per_m2 x 3.7699111843077513e-10 m2 = 7.916813487046279e-11 S (79.1681348704628 pS)\n",
      "*  \n",
      "*    Specific capacitance on all: 1.0 uF_per_cm2\n",
      "*      Capacitance of <Segment|0|soma>,\ttotal capacitance: 0.01 F_per_m2 x 1.2566370614359174e-09 m2 = 1.2566370614359174e-11 F (12.566370614359174 pF)\n",
      "*      Capacitance of <Segment|1|dend1>,\ttotal capacitance: 0.01 F_per_m2 x 4.71238898038469e-10 m2 = 4.71238898038469e-12 F (4.71238898038469 pF)\n",
      "*      Capacitance of <Segment|2|dend2>,\ttotal capacitance: 0.01 F_per_m2 x 3.7699111843077513e-10 m2 = 3.769911184307751e-12 F (3.7699111843077513 pF)\n",
      "*\n",
      "*******************************************************\n",
      "\n",
      "Saved cell file to: BallAndStick.cell.nml\n",
      "Validating BallAndStick.cell.nml against /Users/padraig/anaconda/envs/py37/lib/python3.7/site-packages/libNeuroML-0.2.54-py3.7.egg/neuroml/nml/NeuroML_v2.1.xsd\n",
      "It's valid!\n"
     ]
    }
   ],
   "source": [
    "import neuroml\n",
    "import neuroml.writers as writers\n",
    "from pyneuroml import pynml\n",
    "from neuroml.utils import validate_neuroml2\n",
    "\n",
    "\n",
    "cell_id = 'BallAndStick'\n",
    "\n",
    "# Create the document\n",
    "nml_cell_doc = neuroml.NeuroMLDocument(id=cell_id)\n",
    "\n",
    "\n",
    "def create_cell(id):\n",
    "\n",
    "    cell = neuroml.Cell(id=cell_id)\n",
    "    cell.morphology = neuroml.Morphology(id='morphology')  \n",
    "    membrane_properties = neuroml.MembraneProperties()\n",
    "    intracellular_properties = neuroml.IntracellularProperties()\n",
    "    \n",
    "    cell.biophysical_properties = neuroml.BiophysicalProperties(id=\"biophys\",\n",
    "                                       intracellular_properties=intracellular_properties,\n",
    "                                       membrane_properties=membrane_properties)\n",
    "    \n",
    "    seg_group_all = neuroml.SegmentGroup(id='all')\n",
    "    cell.morphology.segment_groups.append(seg_group_all)\n",
    "\n",
    "    return cell\n",
    "\n",
    "\n",
    "# Helper methods for adding segments etc. Should be added to \"CellBuilder\" class in pyNeuroML..?\n",
    "def add_segment(cell, prox, dist, name=None, parent=None, group=None):\n",
    "    \n",
    "    p = neuroml.Point3DWithDiam(x=prox[0], y=prox[1], z=prox[2], diameter=prox[3])\n",
    "    d = neuroml.Point3DWithDiam(x=dist[0], y=dist[1], z=dist[2], diameter=dist[3])\n",
    "\n",
    "    segid = len(cell.morphology.segments)\n",
    "    \n",
    "    sp = neuroml.SegmentParent(segments=parent.id) if parent else None\n",
    "    segment = neuroml.Segment(id=segid, proximal = p,  distal = d, parent = sp)\n",
    "    \n",
    "    if name:\n",
    "        segment.name=name\n",
    "        \n",
    "    if group:\n",
    "        seg_group = None\n",
    "        for sg in cell.morphology.segment_groups:\n",
    "            if sg.id==group: seg_group = sg\n",
    "            if sg.id=='all': seg_group_all = sg\n",
    "                \n",
    "        if seg_group is None:\n",
    "            neuro_lex_id = None\n",
    "            if group==\"axon_group\": neuro_lex_id=\"GO:0030424\" # See http://amigo.geneontology.org/amigo/term/GO:0030424\n",
    "            if group==\"soma_group\": neuro_lex_id=\"GO:0043025\"\n",
    "            if group==\"dendrite_group\": neuro_lex_id=\"GO:0030425\"\n",
    "            \n",
    "            seg_group = neuroml.SegmentGroup(id=group,neuro_lex_id=neuro_lex_id)\n",
    "            \n",
    "            cell.morphology.segment_groups.append(seg_group)\n",
    "            \n",
    "        seg_group.members.append(neuroml.Member(segments=segment.id))\n",
    "        \n",
    "    seg_group_all.members.append(neuroml.Member(segments=segment.id))\n",
    "    \n",
    "    cell.morphology.segments.append(segment)\n",
    "    \n",
    "    return segment\n",
    "\n",
    "def set_init_memb_potential(cell, v, group='all'):\n",
    "\n",
    "    cell.biophysical_properties.membrane_properties.init_memb_potentials = \\\n",
    "        [neuroml.InitMembPotential(value=v, segment_groups=group)]\n",
    "\n",
    "def set_resistivity(cell, resistivity, group='all'):\n",
    "\n",
    "    cell.biophysical_properties.intracellular_properties.resistivities.append(neuroml.Resistivity(\n",
    "        value=resistivity, segment_groups=group))\n",
    "    \n",
    "def set_specific_capacitance(cell, spec_cap, group='all'):\n",
    "    \n",
    "    cell.biophysical_properties.membrane_properties.specific_capacitances.append( \\\n",
    "            neuroml.SpecificCapacitance(value=spec_cap, segment_groups=group))\n",
    "\n",
    "def add_channel_density(cell, \n",
    "                        nml_cell_doc,\n",
    "                        cd_id, \n",
    "                        cond_density, \n",
    "                        ion_channel,\n",
    "                        erev,\n",
    "                        ion=\"non_specific\",\n",
    "                        group='all'):\n",
    "\n",
    "    cd = neuroml.ChannelDensity(id=cd_id, \n",
    "                                segment_groups=group, \n",
    "                                ion=ion, \n",
    "                                ion_channel=ion_channel, \n",
    "                                erev=erev, \n",
    "                                cond_density=cond_density)\n",
    "    \n",
    "    cell.biophysical_properties.membrane_properties.channel_densities.append(cd)\n",
    "    \n",
    "    \n",
    "    nml_cell_doc.includes.append(neuroml.IncludeType('pas.channel.nml')) \n",
    "\n",
    "cell = create_cell(cell_id)\n",
    "nml_cell_doc.cells.append(cell)\n",
    "\n",
    "soma =  add_segment(cell,(0,0,0,20),(0,0,0,20),name='soma',group='soma_group')\n",
    "dend1 = add_segment(cell,(0,0,0,5),(30,0,0,5), name='dend1',group='dendrite_group',parent=soma)\n",
    "dend2 = add_segment(cell,(30,0,0,4),(60,0,0,4),name='dend2',group='dendrite_group',parent=dend1)\n",
    "\n",
    "set_init_memb_potential(cell,'-65mV')\n",
    "set_resistivity(cell,'1000 ohm_cm')\n",
    "set_specific_capacitance(cell,'1.0 uF_per_cm2')\n",
    "\n",
    "add_channel_density(cell, \n",
    "                    nml_cell_doc,\n",
    "                    cd_id=\"pas_chan\", \n",
    "                    group=\"all\", \n",
    "                    ion=\"non_specific\", \n",
    "                    ion_channel=\"pas\", \n",
    "                    erev=\"-70.0 mV\", \n",
    "                    cond_density=\"0.021 mS_per_cm2\")\n",
    "    \n",
    "pynml.summary(nml_cell_doc, verbose=True)\n",
    "\n",
    "nml_cell_file = cell.id+'.cell.nml'\n",
    "\n",
    "writers.NeuroMLWriter.write(nml_cell_doc,nml_cell_file)\n",
    "\n",
    "print(\"Saved cell file to: \"+nml_cell_file)\n",
    "validate_neuroml2(nml_cell_file)\n"
   ]
  },
  {
   "cell_type": "markdown",
   "metadata": {},
   "source": [
    "## Create a network using NeuroMLlite"
   ]
  },
  {
   "cell_type": "code",
   "execution_count": 2,
   "metadata": {},
   "outputs": [
    {
     "name": "stdout",
     "output_type": "stream",
     "text": [
      "Network (TestNet), version = NeuroMLlite v0.3.0, parameters = {'input_amp1': 0.1}, notes = Current clamp input\n",
      "  cells:\n",
      "    Cell (BallAndStick), neuroml2_source_file = BallAndStick.cell.nml\n",
      "  input_sources:\n",
      "    InputSource (i_clamp1), pynn_input = DCSource, parameters = {'amplitude': 'input_amp1', 'start': 100, 'stop': 300}\n",
      "  regions:\n",
      "    RectangularRegion (region1), x = 0.0, y = 0.0, z = 0.0, width = 1000.0, height = 100.0, depth = 1000.0\n",
      "  populations:\n",
      "    Population (pop0), size = 1, component = BallAndStick, properties = {'color': '1 0 0'}, random_layout = RandomLayout (None), region = region1\n",
      "  inputs:\n",
      "    Input (stim1), input_source = i_clamp1, population = pop0, percentage = 100.0\n",
      "neuromllite >>> Written NeuroMLlite Network to: TestNet.json\n",
      "neuromllite >>> Written NeuroMLlite Simulation to: SimTestNet.json\n"
     ]
    },
    {
     "data": {
      "text/plain": [
       "'SimTestNet.json'"
      ]
     },
     "execution_count": 2,
     "metadata": {},
     "output_type": "execute_result"
    }
   ],
   "source": [
    "import neuromllite as nmllite\n",
    "\n",
    "net = nmllite.Network(id='TestNet')\n",
    "net.notes = 'Current clamp input'\n",
    "net.parameters = { 'input_amp1':       0.1} \n",
    "\n",
    "nmllite_cell = nmllite.Cell(id=cell.id, neuroml2_source_file=nml_cell_file)\n",
    "net.cells.append(nmllite_cell)\n",
    "\n",
    "input_source1 = nmllite.InputSource(id='i_clamp1', \n",
    "                           pynn_input='DCSource', \n",
    "                           parameters={'amplitude':'input_amp1', 'start':100, 'stop':300})\n",
    "\n",
    "net.input_sources.append(input_source1)\n",
    "\n",
    "\n",
    "r1 = nmllite.RectangularRegion(id='region1', x=0,y=0,z=0,width=1000,height=100,depth=1000)\n",
    "net.regions.append(r1)\n",
    "\n",
    "p0 = nmllite.Population(id='pop0', \n",
    "                        size=1, \n",
    "                        component=nmllite_cell.id, \n",
    "                        properties={'color':'1 0 0'},\n",
    "                        random_layout = nmllite.RandomLayout(region=r1.id))\n",
    "\n",
    "net.populations.append(p0)\n",
    "\n",
    "net.inputs.append(nmllite.Input(id='stim1',\n",
    "                        input_source=input_source1.id,\n",
    "                        population=p0.id,\n",
    "                        percentage=100))\n",
    "\n",
    "\n",
    "print(net)\n",
    "new_file = net.to_json_file('%s.json'%net.id)\n",
    "\n",
    "sim = nmllite.Simulation(id='Sim%s'%net.id,\n",
    "                 network=new_file,\n",
    "                 duration='1000',\n",
    "                 dt='0.025',\n",
    "                 recordTraces={'all':'*:[0,1,2]'},\n",
    "                 recordSpikes={'pop0':'*'})\n",
    "                 \n",
    "sim.to_json_file()"
   ]
  },
  {
   "cell_type": "code",
   "execution_count": 3,
   "metadata": {},
   "outputs": [
    {
     "name": "stdout",
     "output_type": "stream",
     "text": [
      "neuromllite >>> Loaded network specification from TestNet.json\n",
      "neuromllite >>> Generating network TestNet and running in simulator: jNeuroML_NEURON...\n",
      "neuromllite >>> Generating NeuroML2 for TestNet...\n",
      "neuromllite >>> Starting net generation for TestNet...\n"
     ]
    },
    {
     "name": "stderr",
     "output_type": "stream",
     "text": [
      "/Users/padraig/anaconda/envs/py37/lib/python3.7/site-packages/airspeed/__init__.py:505: FutureWarning: Possible nested set at position 8\n",
      "  KEYVALSEP = re.compile(r'[ \\t]*:[[ \\t]*(.*)$', re.S)\n",
      "INFO:numexpr.utils:NumExpr defaulting to 8 threads.\n"
     ]
    },
    {
     "name": "stdout",
     "output_type": "stream",
     "text": [
      "44\n",
      "libNeuroML >>> Id i_clamp1 not found in <neuroml> element. All ids: ['BallAndStick', 'TestNet']\n",
      "libNeuroML >>> Id BallAndStick not found in <neuroml> element. All ids: ['TestNet']\n",
      "neuromllite >>> *******************************************************\n",
      "neuromllite >>> * NeuroMLDocument: TestNet\n",
      "neuromllite >>> *\n",
      "neuromllite >>> *  IncludeType: ['BallAndStick.cell.nml']\n",
      "neuromllite >>> *  PulseGenerator: ['i_clamp1']\n",
      "neuromllite >>> *\n",
      "neuromllite >>> *  Network: TestNet\n",
      "neuromllite >>> *\n",
      "neuromllite >>> *   1 cells in 1 populations \n",
      "neuromllite >>> *     Population: pop0 with 1 components of type BallAndStick\n",
      "neuromllite >>> *       Locations: [(966.4535, 44.0733, 7.4915), ...]\n",
      "neuromllite >>> *       Properties: color=1 0 0; region=region1; \n",
      "neuromllite >>> *\n",
      "neuromllite >>> *   0 connections in 0 projections \n",
      "neuromllite >>> *\n",
      "neuromllite >>> *   1 inputs in 1 input lists \n",
      "neuromllite >>> *     Input list: stim1 to pop0, component i_clamp1\n",
      "neuromllite >>> *       1 inputs: [(Input 0: 0:0(0.500000)), ...]\n",
      "neuromllite >>> *\n",
      "neuromllite >>> *******************************************************\n",
      "neuromllite >>> Written NeuroML to TestNet.net.nml\n",
      "neuromllite >>> Generating LEMS file prior to running in jNeuroML_NEURON\n",
      "neuromllite >>> Parsed [0,1,2] as [0, 1, 2]\n",
      "neuromllite >>> Recording in pop pop0, cell index 0, seg ids: [0, 1, 2]\n",
      "pyNeuroML >>> Creating LEMS file at: ./LEMS_SimTestNet.xml for NeuroML 2 file: TestNet.net.nml (copy: True)\n",
      "pyNeuroML >>> Copying a NeuroML file (TestNet.net.nml) to: . (abs path: /Users/padraig/neuroConstruct/osb/showcase/ArborShowcase/NeuroML2)\n",
      "pyNeuroML >>> No need, same file...\n",
      "pyNeuroML >>>  - Including BallAndStick.cell.nml (located at BallAndStick.cell.nml; nml dir: .), copying to .\n",
      "pyNeuroML >>> No need to copy, file exists: ./BallAndStick.cell.nml...\n",
      "pyNeuroML >>>  -- Including pas.channel.nml located at ./pas.channel.nml\n",
      "pyNeuroML >>> Written LEMS Simulation SimTestNet to file: ./LEMS_SimTestNet.xml\n",
      "pyNeuroML >>> Reloading data specified in LEMS file: LEMS_SimTestNet.xml (/Users/padraig/neuroConstruct/osb/showcase/ArborShowcase/NeuroML2/LEMS_SimTestNet.xml), base_dir: ., cwd: /Users/padraig/neuroConstruct/osb/showcase/ArborShowcase/NeuroML2; plotting False\n",
      "pyNeuroML >>> Loading saved events from ./SimTestNet.pop0.spikes (format: ID_TIME)\n",
      "neuromllite >>> Finished running LEMS file LEMS_SimTestNet.xml in jNeuroML_NEURON (pyNeuroML v0.5.9 containing jNeuroML v0.10.1; returning results: True)\n",
      "neuromllite >>> Returning 4 traces:\n",
      "neuromllite >>>   pop0/0/BallAndStick/0/v (<class 'list'>): -0.065 -> -0.06999991 (min: -0.06999991, max: 0.1530379, len: 40001)\n",
      "neuromllite >>>   pop0/0/BallAndStick/1/v (<class 'list'>): -0.065 -> -0.06999991 (min: -0.06999991, max: 0.1527176, len: 40001)\n",
      "neuromllite >>>   pop0/0/BallAndStick/2/v (<class 'list'>): -0.065 -> -0.06999991 (min: -0.06999991, max: 0.1523677, len: 40001)\n",
      "neuromllite >>>   t (<class 'list'>): 0.0 -> 1.0 (min: 0.0, max: 1.0, len: 40001)\n",
      "neuromllite >>> Returning 1 events:\n",
      "neuromllite >>>   pop0/0/BallAndStick: 0.11745000000011814 -> 0.11745000000011814 (len: 1)\n"
     ]
    }
   ],
   "source": [
    "\n",
    "\n",
    "from neuromllite.NetworkGenerator import generate_and_run\n",
    "traces, events = generate_and_run(sim, \n",
    "                                  simulator='jNeuroML_NEURON', \n",
    "                                  return_results =True)"
   ]
  },
  {
   "cell_type": "code",
   "execution_count": 4,
   "metadata": {},
   "outputs": [
    {
     "data": {
      "text/plain": [
       "<matplotlib.legend.Legend at 0x7ffbe201f310>"
      ]
     },
     "execution_count": 4,
     "metadata": {},
     "output_type": "execute_result"
    },
    {
     "data": {
      "image/png": "[encoded data removed]",
      "text/plain": [
       "<Figure size 1000x600 with 1 Axes>"
      ]
     },
     "metadata": {
      "needs_background": "light"
     },
     "output_type": "display_data"
    }
   ],
   "source": [
    "import matplotlib.pyplot as plt\n",
    "\n",
    "fig=plt.figure(figsize=(10,6), dpi= 100)\n",
    "for trace in traces:\n",
    "    if trace is not 't':\n",
    "        plt.plot(traces['t'],traces[trace],label=trace)\n",
    "plt.legend()"
   ]
  },
  {
   "cell_type": "code",
   "execution_count": null,
   "metadata": {},
   "outputs": [],
   "source": []
  }
 ],
 "metadata": {
  "kernelspec": {
   "display_name": "Python 3",
   "language": "python",
   "name": "python3"
  },
  "language_info": {
   "codemirror_mode": {
    "name": "ipython",
    "version": 3
   },
   "file_extension": ".py",
   "mimetype": "text/x-python",
   "name": "python",
   "nbconvert_exporter": "python",
   "pygments_lexer": "ipython3",
   "version": "3.7.7"
  }
 },
 "nbformat": 4,
 "nbformat_minor": 4
}
