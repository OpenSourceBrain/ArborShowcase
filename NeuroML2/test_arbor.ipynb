{
 "cells": [
  {
   "cell_type": "code",
   "execution_count": 1,
   "metadata": {},
   "outputs": [
    {
     "name": "stdout",
     "output_type": "stream",
     "text": [
      "0.5.1-dev\n",
      "<arbor._arbor.neuroml object at 0x7ff872db59b0>\n",
      "(label_dict (region  \"0\" (join nil (segment 0))) (region  \"5\" (join nil (segment 5))) (region  \"7\" (join nil (segment 7))) (region  \"3\" (join nil (segment 3))) (region  \"1\" (join nil (segment 1))) (region  \"2\" (join nil (segment 2))) (region  \"10\" (join nil (segment 10))) (region  \"8\" (join nil (segment 8))) (region  \"4\" (join nil (segment 4))) (region  \"9\" (join nil (segment 9))) (region  \"6\" (join nil (segment 6))))\n",
      "['0', '5', '7', '3', '1', '2', '10', '8', '4', '9', '6']\n"
     ]
    }
   ],
   "source": [
    "import arbor\n",
    "print(arbor.__version__)\n",
    "import numpy as np\n",
    "import matplotlib.pyplot as plt\n",
    "\n",
    "cell_id = 'BallAndStick'\n",
    "nml = arbor.neuroml('%s.cell.nml'%cell_id)\n",
    "\n",
    "cell_ids = nml.cell_ids()\n",
    "morpho_data = nml.cell_morphology(cell_id)\n",
    "morpho = morpho_data.morphology\n",
    "\n",
    "# Get the region label dictionaries associated with the morphology.\n",
    "morpho_segments = morpho_data.segments()\n",
    "morpho_named = morpho_data.named_segments() # (label_dict)\n",
    "morpho_groups = morpho_data.groups()\n",
    "\n",
    "# Create new label dict add to it all the NeuroML dictionaries.\n",
    "labels = arbor.label_dict()\n",
    "labels.append(morpho_segments)\n",
    "labels.append(morpho_named)\n",
    "labels.append(morpho_groups)\n",
    "\n",
    "print(nml)\n",
    "print(morpho_segments)\n",
    "print(morpho_segments.regions)\n",
    "# >>> print([reg for reg in labels.regions if not reg.isdigit()])\n",
    "# ['all', 'soma_group', 'dendrite_group', 'axon_group', ...]\n"
   ]
  },
  {
   "cell_type": "code",
   "execution_count": 13,
   "metadata": {},
   "outputs": [
    {
     "name": "stdout",
     "output_type": "stream",
     "text": [
      "[(location 0 1)]\n"
     ]
    }
   ],
   "source": [
    "\n",
    "# Add locsets to the label dictionary.\n",
    "#labels['stim_site'] = '(on-components 0.5 (region \"0\"))' # site for the stimulus\n",
    "labels['stim_site'] = '(location 0 0)' # site for the stimulus\n",
    "#labels['axon_end']  = '(restrict (terminal) (region \"axon_group\"))' # end of the axon.\n",
    "labels['dend_end']  = '(restrict (terminal) (region \"dendrite_group\"))' # end of the axon.\n",
    "labels['root']      = '(root)' # the start of the soma in this morphology is at the root of the cell.\n",
    "\n",
    "\n",
    "labels['soma'] = '(location 0 0.5)'\n",
    "#labels['dend1'] = '(location 1 0.5)'\n",
    "#labels['dend2'] = '(location 2 0.5)'\n",
    "\n",
    "decor = arbor.decor()\n",
    "policy = arbor.cv_policy_fixed_per_branch(11)\n",
    "decor.discretization(policy)\n",
    "\n",
    "decor.paint('\"all\"', arbor.mechanism('pas', dict(g=2.01e-05)))\n",
    "decor.paint('\"all\"', rL=2000)\n",
    "\n",
    "decor.place('\"stim_site\"', arbor.iclamp( 100, 200, 0.05))\n",
    "\n",
    "\n",
    "# Combine morphology with region and locset definitions to make a cable cell.\n",
    "cell = arbor.cable_cell(morpho, labels, decor)\n",
    "print(cell.locations('\"dend_end\"'))\n",
    "\n",
    "# Make single cell model.\n",
    "m = arbor.single_cell_model(cell)\n",
    "\n",
    "for i in range(11):\n",
    "    m.probe('voltage', where='(location 0 %s)'%(i/10.),  frequency=500)\n"
   ]
  },
  {
   "cell_type": "code",
   "execution_count": 14,
   "metadata": {},
   "outputs": [
    {
     "name": "stdout",
     "output_type": "stream",
     "text": [
      "Simulation start.\n",
      "Simulation done.\n",
      "no spikes\n",
      "(trace \"voltage\" (location 0 0))\n",
      "(trace \"voltage\" (location 0 0.1))\n",
      "(trace \"voltage\" (location 0 0.2))\n",
      "(trace \"voltage\" (location 0 0.3))\n",
      "(trace \"voltage\" (location 0 0.4))\n",
      "(trace \"voltage\" (location 0 0.5))\n",
      "(trace \"voltage\" (location 0 0.6))\n",
      "(trace \"voltage\" (location 0 0.7))\n",
      "(trace \"voltage\" (location 0 0.8))\n",
      "(trace \"voltage\" (location 0 0.9))\n",
      "(trace \"voltage\" (location 0 1))\n"
     ]
    },
    {
     "data": {
      "image/png": "[encoded data removed]",
      "text/plain": [
       "<Figure size 432x288 with 1 Axes>"
      ]
     },
     "metadata": {
      "needs_background": "light"
     },
     "output_type": "display_data"
    }
   ],
   "source": [
    "\n",
    "\n",
    "\n",
    "# Simulate the cell\n",
    "print('Simulation start.')\n",
    "tfinal = 1000 # ms\n",
    "m.run(tfinal)\n",
    "print('Simulation done.')\n",
    "\n",
    "\n",
    "# Print spike times.\n",
    "if len(m.spikes)>0:\n",
    "    print('{} spikes:'.format(len(m.spikes)))\n",
    "    for s in m.spikes:\n",
    "        print('  {:7.4f}'.format(s))\n",
    "else:\n",
    "    print('no spikes')\n",
    "\n",
    "for tr in m.traces:\n",
    "    print(tr)\n",
    "    x = np.array(tr.value)\n",
    "    t = np.array(tr.time)\n",
    "    plt.plot(t, x, label=tr.location)\n",
    "\n",
    "    with open('%s.dat'%str(tr.location).replace(' ','_').replace('(','_').replace(')','_'),'w') as f:\n",
    "        for ti in range(len(t)):\n",
    "            f.write('%s\\t%s\\n'%(t[ti]/1000.0,x[ti]/1000.0))\n",
    "plt.legend()\n",
    "plt.show()"
   ]
  },
  {
   "cell_type": "code",
   "execution_count": null,
   "metadata": {},
   "outputs": [],
   "source": []
  }
 ],
 "metadata": {
  "kernelspec": {
   "display_name": "Python 3",
   "language": "python",
   "name": "python3"
  },
  "language_info": {
   "codemirror_mode": {
    "name": "ipython",
    "version": 3
   },
   "file_extension": ".py",
   "mimetype": "text/x-python",
   "name": "python",
   "nbconvert_exporter": "python",
   "pygments_lexer": "ipython3",
   "version": "3.7.7"
  }
 },
 "nbformat": 4,
 "nbformat_minor": 4
}
